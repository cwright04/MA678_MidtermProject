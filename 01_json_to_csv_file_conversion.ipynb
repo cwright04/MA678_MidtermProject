{
 "cells": [
  {
   "cell_type": "code",
   "execution_count": null,
   "id": "1efe24d6",
   "metadata": {},
   "outputs": [],
   "source": [
    "import json\n",
    "import pandas as pd\n",
    "from glob import glob\n",
    "\n",
    "def convert(x):\n",
    "    ''' Convert a json string to a flat python dictionary\n",
    "    which can be passed into Pandas. '''\n",
    "    ob = json.loads(x)\n",
    "    for k, v in ob.items():\n",
    "        if isinstance(v, list):\n",
    "            ob[k] = ','.join(v)\n",
    "        elif isinstance(v, dict):\n",
    "            for kk, vv in v.items():\n",
    "                ob['%s_%s' % (k, kk)] = vv\n",
    "            del ob[k]\n",
    "    return ob\n",
    "\n",
    "for json_filename in glob('/Users/GuestUser/Desktop/Documents/Boston_University/Fall_Semester/MA678/Final_Project/yelp_dataset/json/*.json'):\n",
    "    csv_filename = '%s.csv' % json_filename[:-5]\n",
    "    df = pd.DataFrame([convert(line) for line in open(json_filename)])\n",
    "    df.to_csv(csv_filename, encoding='utf-8', index=False)"
   ]
  },
  {
   "cell_type": "code",
   "execution_count": null,
   "id": "a616bd0c",
   "metadata": {},
   "outputs": [],
   "source": [
    "business_json_path = '/Users/GuestUser/Desktop/Documents/Boston_University/Fall_Semester/MA678/Final_Project/yelp_dataset/covid_19_dataset_2020_06_10/csv/yelp_academic_dataset_business.json'\n",
    "df_b = pd.read_json(business_json_path, lines=True)\n",
    "\n",
    "csv_name = \"/Users/GuestUser/Desktop/Documents/Boston_University/Fall_Semester/MA678/Final_Project/yelp_dataset/csv/yelp_academic_dataset_business.csv\"\n",
    "df_b.to_csv(csv_name, index=False)"
   ]
  },
  {
   "cell_type": "code",
   "execution_count": 5,
   "id": "ecac69d0",
   "metadata": {},
   "outputs": [],
   "source": [
    "import json\n",
    "import pandas as pd\n",
    "from glob import glob\n",
    "\n",
    "def convert(x):\n",
    "    ''' Convert a json string to a flat python dictionary\n",
    "    which can be passed into Pandas. '''\n",
    "    ob = json.loads(x)\n",
    "    for k, v in ob.items():\n",
    "        if isinstance(v, list):\n",
    "            ob[k] = ','.join(v)\n",
    "        elif isinstance(v, dict):\n",
    "            for kk, vv in v.items():\n",
    "                ob['%s_%s' % (k, kk)] = vv\n",
    "            del ob[k]\n",
    "    return ob\n",
    "\n",
    "for json_filename in glob('/Users/GuestUser/Desktop/Documents/Boston_University/Fall_Semester/MA678/Final_Project/yelp_dataset/covid_19_dataset_2020_06_10/*.json'):\n",
    "    csv_filename = '%s.csv' % json_filename[:-5]\n",
    "    df = pd.DataFrame([convert(line) for line in open(json_filename)])\n",
    "    df.to_csv(csv_filename, encoding='utf-8', index=False)"
   ]
  },
  {
   "cell_type": "code",
   "execution_count": null,
   "id": "6a39fe42",
   "metadata": {},
   "outputs": [],
   "source": []
  }
 ],
 "metadata": {
  "kernelspec": {
   "display_name": "Python 3 (ipykernel)",
   "language": "python",
   "name": "python3"
  },
  "language_info": {
   "codemirror_mode": {
    "name": "ipython",
    "version": 3
   },
   "file_extension": ".py",
   "mimetype": "text/x-python",
   "name": "python",
   "nbconvert_exporter": "python",
   "pygments_lexer": "ipython3",
   "version": "3.9.7"
  }
 },
 "nbformat": 4,
 "nbformat_minor": 5
}
